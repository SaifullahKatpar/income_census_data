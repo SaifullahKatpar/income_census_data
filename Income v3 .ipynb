{
 "cells": [
  {
   "cell_type": "markdown",
   "metadata": {},
   "source": [
    "# import libraries"
   ]
  },
  {
   "cell_type": "code",
   "execution_count": 134,
   "metadata": {},
   "outputs": [],
   "source": [
    "import pandas as pd\n",
    "import numpy as np\n",
    "from sklearn import preprocessing\n",
    "\n",
    "import matplotlib.pyplot as plt\n",
    "import seaborn as sb"
   ]
  },
  {
   "cell_type": "markdown",
   "metadata": {},
   "source": [
    "# preprocessing"
   ]
  },
  {
   "cell_type": "code",
   "execution_count": 198,
   "metadata": {},
   "outputs": [],
   "source": [
    "train = pd.read_csv('adult.data.csv')\n",
    "test = pd.read_csv('adult.test.csv')"
   ]
  },
  {
   "cell_type": "code",
   "execution_count": 199,
   "metadata": {},
   "outputs": [],
   "source": [
    "data = pd.concat([train,test])"
   ]
  },
  {
   "cell_type": "code",
   "execution_count": 164,
   "metadata": {},
   "outputs": [
    {
     "name": "stdout",
     "output_type": "stream",
     "text": [
      "<class 'pandas.core.frame.DataFrame'>\n",
      "Int64Index: 48842 entries, 0 to 16280\n",
      "Data columns (total 15 columns):\n",
      "age              48842 non-null int64\n",
      "workclass        48842 non-null object\n",
      "weight           48842 non-null int64\n",
      "education        48842 non-null object\n",
      "education-num    48842 non-null int64\n",
      "status           48842 non-null object\n",
      "occupation       48842 non-null object\n",
      "relationship     48842 non-null object\n",
      "race             48842 non-null object\n",
      "sex              48842 non-null object\n",
      "gain             48842 non-null int64\n",
      "loss             48842 non-null int64\n",
      "hpw              48842 non-null int64\n",
      "country          48842 non-null object\n",
      "target           48842 non-null object\n",
      "dtypes: int64(6), object(9)\n",
      "memory usage: 4.3+ MB\n"
     ]
    }
   ],
   "source": [
    "data.info()"
   ]
  },
  {
   "cell_type": "markdown",
   "metadata": {},
   "source": [
    "age -> cont <br>\n",
    "workclass -> cat<br>\n",
    "weight -> int <br>\n",
    "education -> cat  drop it<br>\n",
    "education-num -> int <br>\n",
    "status -> ordinal<br>\n",
    "occupation -> cat<br>\n",
    "relationship -> cat<br>\n",
    "race-> cat<br>\n",
    "sex -> binary cat <br>\n",
    "country -> cat<br>\n",
    "hpw -> cont<br>\n",
    "gain,loss -> cont <br>"
   ]
  },
  {
   "cell_type": "code",
   "execution_count": 165,
   "metadata": {},
   "outputs": [
    {
     "name": "stdout",
     "output_type": "stream",
     "text": [
      "<class 'pandas.core.frame.DataFrame'>\n",
      "Int64Index: 48842 entries, 0 to 16280\n",
      "Data columns (total 9 columns):\n",
      "workclass       48842 non-null object\n",
      "education       48842 non-null object\n",
      "status          48842 non-null object\n",
      "occupation      48842 non-null object\n",
      "relationship    48842 non-null object\n",
      "race            48842 non-null object\n",
      "sex             48842 non-null object\n",
      "country         48842 non-null object\n",
      "target          48842 non-null object\n",
      "dtypes: object(9)\n",
      "memory usage: 2.0+ MB\n"
     ]
    }
   ],
   "source": [
    "cat_data = data.select_dtypes(include=['object']).copy()\n",
    "cat_data.info()"
   ]
  },
  {
   "cell_type": "code",
   "execution_count": 166,
   "metadata": {},
   "outputs": [
    {
     "data": {
      "text/html": [
       "<div>\n",
       "<style scoped>\n",
       "    .dataframe tbody tr th:only-of-type {\n",
       "        vertical-align: middle;\n",
       "    }\n",
       "\n",
       "    .dataframe tbody tr th {\n",
       "        vertical-align: top;\n",
       "    }\n",
       "\n",
       "    .dataframe thead th {\n",
       "        text-align: right;\n",
       "    }\n",
       "</style>\n",
       "<table border=\"1\" class=\"dataframe\">\n",
       "  <thead>\n",
       "    <tr style=\"text-align: right;\">\n",
       "      <th></th>\n",
       "      <th>age</th>\n",
       "      <th>weight</th>\n",
       "      <th>education-num</th>\n",
       "      <th>gain</th>\n",
       "      <th>loss</th>\n",
       "      <th>hpw</th>\n",
       "    </tr>\n",
       "  </thead>\n",
       "  <tbody>\n",
       "    <tr>\n",
       "      <th>count</th>\n",
       "      <td>48842.000000</td>\n",
       "      <td>4.884200e+04</td>\n",
       "      <td>48842.000000</td>\n",
       "      <td>48842.000000</td>\n",
       "      <td>48842.000000</td>\n",
       "      <td>48842.000000</td>\n",
       "    </tr>\n",
       "    <tr>\n",
       "      <th>mean</th>\n",
       "      <td>38.643585</td>\n",
       "      <td>1.896641e+05</td>\n",
       "      <td>10.078089</td>\n",
       "      <td>1079.067626</td>\n",
       "      <td>87.502314</td>\n",
       "      <td>40.422382</td>\n",
       "    </tr>\n",
       "    <tr>\n",
       "      <th>std</th>\n",
       "      <td>13.710510</td>\n",
       "      <td>1.056040e+05</td>\n",
       "      <td>2.570973</td>\n",
       "      <td>7452.019058</td>\n",
       "      <td>403.004552</td>\n",
       "      <td>12.391444</td>\n",
       "    </tr>\n",
       "    <tr>\n",
       "      <th>min</th>\n",
       "      <td>17.000000</td>\n",
       "      <td>1.228500e+04</td>\n",
       "      <td>1.000000</td>\n",
       "      <td>0.000000</td>\n",
       "      <td>0.000000</td>\n",
       "      <td>1.000000</td>\n",
       "    </tr>\n",
       "    <tr>\n",
       "      <th>25%</th>\n",
       "      <td>28.000000</td>\n",
       "      <td>1.175505e+05</td>\n",
       "      <td>9.000000</td>\n",
       "      <td>0.000000</td>\n",
       "      <td>0.000000</td>\n",
       "      <td>40.000000</td>\n",
       "    </tr>\n",
       "    <tr>\n",
       "      <th>50%</th>\n",
       "      <td>37.000000</td>\n",
       "      <td>1.781445e+05</td>\n",
       "      <td>10.000000</td>\n",
       "      <td>0.000000</td>\n",
       "      <td>0.000000</td>\n",
       "      <td>40.000000</td>\n",
       "    </tr>\n",
       "    <tr>\n",
       "      <th>75%</th>\n",
       "      <td>48.000000</td>\n",
       "      <td>2.376420e+05</td>\n",
       "      <td>12.000000</td>\n",
       "      <td>0.000000</td>\n",
       "      <td>0.000000</td>\n",
       "      <td>45.000000</td>\n",
       "    </tr>\n",
       "    <tr>\n",
       "      <th>max</th>\n",
       "      <td>90.000000</td>\n",
       "      <td>1.490400e+06</td>\n",
       "      <td>16.000000</td>\n",
       "      <td>99999.000000</td>\n",
       "      <td>4356.000000</td>\n",
       "      <td>99.000000</td>\n",
       "    </tr>\n",
       "  </tbody>\n",
       "</table>\n",
       "</div>"
      ],
      "text/plain": [
       "                age        weight  education-num          gain          loss  \\\n",
       "count  48842.000000  4.884200e+04   48842.000000  48842.000000  48842.000000   \n",
       "mean      38.643585  1.896641e+05      10.078089   1079.067626     87.502314   \n",
       "std       13.710510  1.056040e+05       2.570973   7452.019058    403.004552   \n",
       "min       17.000000  1.228500e+04       1.000000      0.000000      0.000000   \n",
       "25%       28.000000  1.175505e+05       9.000000      0.000000      0.000000   \n",
       "50%       37.000000  1.781445e+05      10.000000      0.000000      0.000000   \n",
       "75%       48.000000  2.376420e+05      12.000000      0.000000      0.000000   \n",
       "max       90.000000  1.490400e+06      16.000000  99999.000000   4356.000000   \n",
       "\n",
       "                hpw  \n",
       "count  48842.000000  \n",
       "mean      40.422382  \n",
       "std       12.391444  \n",
       "min        1.000000  \n",
       "25%       40.000000  \n",
       "50%       40.000000  \n",
       "75%       45.000000  \n",
       "max       99.000000  "
      ]
     },
     "execution_count": 166,
     "metadata": {},
     "output_type": "execute_result"
    }
   ],
   "source": [
    "data.describe()"
   ]
  },
  {
   "cell_type": "code",
   "execution_count": 200,
   "metadata": {},
   "outputs": [],
   "source": [
    "for col in cat_data.columns:\n",
    "    data[col] = data[col].astype('category')\n",
    "    data[col] = data[col].cat.codes\n"
   ]
  },
  {
   "cell_type": "code",
   "execution_count": 201,
   "metadata": {},
   "outputs": [],
   "source": [
    "train = data[:32561]\n",
    "test = data[32560:]"
   ]
  },
  {
   "cell_type": "code",
   "execution_count": 202,
   "metadata": {},
   "outputs": [
    {
     "data": {
      "text/html": [
       "<div>\n",
       "<style scoped>\n",
       "    .dataframe tbody tr th:only-of-type {\n",
       "        vertical-align: middle;\n",
       "    }\n",
       "\n",
       "    .dataframe tbody tr th {\n",
       "        vertical-align: top;\n",
       "    }\n",
       "\n",
       "    .dataframe thead th {\n",
       "        text-align: right;\n",
       "    }\n",
       "</style>\n",
       "<table border=\"1\" class=\"dataframe\">\n",
       "  <thead>\n",
       "    <tr style=\"text-align: right;\">\n",
       "      <th></th>\n",
       "      <th>age</th>\n",
       "      <th>workclass</th>\n",
       "      <th>weight</th>\n",
       "      <th>education</th>\n",
       "      <th>education-num</th>\n",
       "      <th>status</th>\n",
       "      <th>occupation</th>\n",
       "      <th>relationship</th>\n",
       "      <th>race</th>\n",
       "      <th>sex</th>\n",
       "      <th>gain</th>\n",
       "      <th>loss</th>\n",
       "      <th>hpw</th>\n",
       "      <th>country</th>\n",
       "      <th>target</th>\n",
       "    </tr>\n",
       "  </thead>\n",
       "  <tbody>\n",
       "    <tr>\n",
       "      <th>age</th>\n",
       "      <td>True</td>\n",
       "      <td>False</td>\n",
       "      <td>False</td>\n",
       "      <td>False</td>\n",
       "      <td>False</td>\n",
       "      <td>False</td>\n",
       "      <td>False</td>\n",
       "      <td>False</td>\n",
       "      <td>False</td>\n",
       "      <td>False</td>\n",
       "      <td>False</td>\n",
       "      <td>False</td>\n",
       "      <td>False</td>\n",
       "      <td>False</td>\n",
       "      <td>False</td>\n",
       "    </tr>\n",
       "    <tr>\n",
       "      <th>workclass</th>\n",
       "      <td>False</td>\n",
       "      <td>True</td>\n",
       "      <td>False</td>\n",
       "      <td>False</td>\n",
       "      <td>False</td>\n",
       "      <td>False</td>\n",
       "      <td>False</td>\n",
       "      <td>False</td>\n",
       "      <td>False</td>\n",
       "      <td>False</td>\n",
       "      <td>False</td>\n",
       "      <td>False</td>\n",
       "      <td>False</td>\n",
       "      <td>False</td>\n",
       "      <td>False</td>\n",
       "    </tr>\n",
       "    <tr>\n",
       "      <th>weight</th>\n",
       "      <td>False</td>\n",
       "      <td>False</td>\n",
       "      <td>True</td>\n",
       "      <td>False</td>\n",
       "      <td>False</td>\n",
       "      <td>False</td>\n",
       "      <td>False</td>\n",
       "      <td>False</td>\n",
       "      <td>False</td>\n",
       "      <td>False</td>\n",
       "      <td>False</td>\n",
       "      <td>False</td>\n",
       "      <td>False</td>\n",
       "      <td>False</td>\n",
       "      <td>False</td>\n",
       "    </tr>\n",
       "    <tr>\n",
       "      <th>education</th>\n",
       "      <td>False</td>\n",
       "      <td>False</td>\n",
       "      <td>False</td>\n",
       "      <td>True</td>\n",
       "      <td>True</td>\n",
       "      <td>False</td>\n",
       "      <td>False</td>\n",
       "      <td>False</td>\n",
       "      <td>False</td>\n",
       "      <td>False</td>\n",
       "      <td>False</td>\n",
       "      <td>False</td>\n",
       "      <td>False</td>\n",
       "      <td>False</td>\n",
       "      <td>False</td>\n",
       "    </tr>\n",
       "    <tr>\n",
       "      <th>education-num</th>\n",
       "      <td>False</td>\n",
       "      <td>False</td>\n",
       "      <td>False</td>\n",
       "      <td>True</td>\n",
       "      <td>True</td>\n",
       "      <td>False</td>\n",
       "      <td>False</td>\n",
       "      <td>False</td>\n",
       "      <td>False</td>\n",
       "      <td>False</td>\n",
       "      <td>False</td>\n",
       "      <td>False</td>\n",
       "      <td>False</td>\n",
       "      <td>False</td>\n",
       "      <td>True</td>\n",
       "    </tr>\n",
       "    <tr>\n",
       "      <th>status</th>\n",
       "      <td>False</td>\n",
       "      <td>False</td>\n",
       "      <td>False</td>\n",
       "      <td>False</td>\n",
       "      <td>False</td>\n",
       "      <td>True</td>\n",
       "      <td>False</td>\n",
       "      <td>False</td>\n",
       "      <td>False</td>\n",
       "      <td>False</td>\n",
       "      <td>False</td>\n",
       "      <td>False</td>\n",
       "      <td>False</td>\n",
       "      <td>False</td>\n",
       "      <td>False</td>\n",
       "    </tr>\n",
       "    <tr>\n",
       "      <th>occupation</th>\n",
       "      <td>False</td>\n",
       "      <td>False</td>\n",
       "      <td>False</td>\n",
       "      <td>False</td>\n",
       "      <td>False</td>\n",
       "      <td>False</td>\n",
       "      <td>True</td>\n",
       "      <td>False</td>\n",
       "      <td>False</td>\n",
       "      <td>False</td>\n",
       "      <td>False</td>\n",
       "      <td>False</td>\n",
       "      <td>False</td>\n",
       "      <td>False</td>\n",
       "      <td>False</td>\n",
       "    </tr>\n",
       "    <tr>\n",
       "      <th>relationship</th>\n",
       "      <td>False</td>\n",
       "      <td>False</td>\n",
       "      <td>False</td>\n",
       "      <td>False</td>\n",
       "      <td>False</td>\n",
       "      <td>False</td>\n",
       "      <td>False</td>\n",
       "      <td>True</td>\n",
       "      <td>False</td>\n",
       "      <td>False</td>\n",
       "      <td>False</td>\n",
       "      <td>False</td>\n",
       "      <td>False</td>\n",
       "      <td>False</td>\n",
       "      <td>False</td>\n",
       "    </tr>\n",
       "    <tr>\n",
       "      <th>race</th>\n",
       "      <td>False</td>\n",
       "      <td>False</td>\n",
       "      <td>False</td>\n",
       "      <td>False</td>\n",
       "      <td>False</td>\n",
       "      <td>False</td>\n",
       "      <td>False</td>\n",
       "      <td>False</td>\n",
       "      <td>True</td>\n",
       "      <td>False</td>\n",
       "      <td>False</td>\n",
       "      <td>False</td>\n",
       "      <td>False</td>\n",
       "      <td>False</td>\n",
       "      <td>False</td>\n",
       "    </tr>\n",
       "    <tr>\n",
       "      <th>sex</th>\n",
       "      <td>False</td>\n",
       "      <td>False</td>\n",
       "      <td>False</td>\n",
       "      <td>False</td>\n",
       "      <td>False</td>\n",
       "      <td>False</td>\n",
       "      <td>False</td>\n",
       "      <td>False</td>\n",
       "      <td>False</td>\n",
       "      <td>True</td>\n",
       "      <td>False</td>\n",
       "      <td>False</td>\n",
       "      <td>False</td>\n",
       "      <td>False</td>\n",
       "      <td>False</td>\n",
       "    </tr>\n",
       "    <tr>\n",
       "      <th>gain</th>\n",
       "      <td>False</td>\n",
       "      <td>False</td>\n",
       "      <td>False</td>\n",
       "      <td>False</td>\n",
       "      <td>False</td>\n",
       "      <td>False</td>\n",
       "      <td>False</td>\n",
       "      <td>False</td>\n",
       "      <td>False</td>\n",
       "      <td>False</td>\n",
       "      <td>True</td>\n",
       "      <td>False</td>\n",
       "      <td>False</td>\n",
       "      <td>False</td>\n",
       "      <td>False</td>\n",
       "    </tr>\n",
       "    <tr>\n",
       "      <th>loss</th>\n",
       "      <td>False</td>\n",
       "      <td>False</td>\n",
       "      <td>False</td>\n",
       "      <td>False</td>\n",
       "      <td>False</td>\n",
       "      <td>False</td>\n",
       "      <td>False</td>\n",
       "      <td>False</td>\n",
       "      <td>False</td>\n",
       "      <td>False</td>\n",
       "      <td>False</td>\n",
       "      <td>True</td>\n",
       "      <td>False</td>\n",
       "      <td>False</td>\n",
       "      <td>False</td>\n",
       "    </tr>\n",
       "    <tr>\n",
       "      <th>hpw</th>\n",
       "      <td>False</td>\n",
       "      <td>False</td>\n",
       "      <td>False</td>\n",
       "      <td>False</td>\n",
       "      <td>False</td>\n",
       "      <td>False</td>\n",
       "      <td>False</td>\n",
       "      <td>False</td>\n",
       "      <td>False</td>\n",
       "      <td>False</td>\n",
       "      <td>False</td>\n",
       "      <td>False</td>\n",
       "      <td>True</td>\n",
       "      <td>False</td>\n",
       "      <td>False</td>\n",
       "    </tr>\n",
       "    <tr>\n",
       "      <th>country</th>\n",
       "      <td>False</td>\n",
       "      <td>False</td>\n",
       "      <td>False</td>\n",
       "      <td>False</td>\n",
       "      <td>False</td>\n",
       "      <td>False</td>\n",
       "      <td>False</td>\n",
       "      <td>False</td>\n",
       "      <td>False</td>\n",
       "      <td>False</td>\n",
       "      <td>False</td>\n",
       "      <td>False</td>\n",
       "      <td>False</td>\n",
       "      <td>True</td>\n",
       "      <td>False</td>\n",
       "    </tr>\n",
       "    <tr>\n",
       "      <th>target</th>\n",
       "      <td>False</td>\n",
       "      <td>False</td>\n",
       "      <td>False</td>\n",
       "      <td>False</td>\n",
       "      <td>True</td>\n",
       "      <td>False</td>\n",
       "      <td>False</td>\n",
       "      <td>False</td>\n",
       "      <td>False</td>\n",
       "      <td>False</td>\n",
       "      <td>False</td>\n",
       "      <td>False</td>\n",
       "      <td>False</td>\n",
       "      <td>False</td>\n",
       "      <td>True</td>\n",
       "    </tr>\n",
       "  </tbody>\n",
       "</table>\n",
       "</div>"
      ],
      "text/plain": [
       "                 age  workclass  weight  education  education-num  status  \\\n",
       "age             True      False   False      False          False   False   \n",
       "workclass      False       True   False      False          False   False   \n",
       "weight         False      False    True      False          False   False   \n",
       "education      False      False   False       True           True   False   \n",
       "education-num  False      False   False       True           True   False   \n",
       "status         False      False   False      False          False    True   \n",
       "occupation     False      False   False      False          False   False   \n",
       "relationship   False      False   False      False          False   False   \n",
       "race           False      False   False      False          False   False   \n",
       "sex            False      False   False      False          False   False   \n",
       "gain           False      False   False      False          False   False   \n",
       "loss           False      False   False      False          False   False   \n",
       "hpw            False      False   False      False          False   False   \n",
       "country        False      False   False      False          False   False   \n",
       "target         False      False   False      False           True   False   \n",
       "\n",
       "               occupation  relationship   race    sex   gain   loss    hpw  \\\n",
       "age                 False         False  False  False  False  False  False   \n",
       "workclass           False         False  False  False  False  False  False   \n",
       "weight              False         False  False  False  False  False  False   \n",
       "education           False         False  False  False  False  False  False   \n",
       "education-num       False         False  False  False  False  False  False   \n",
       "status              False         False  False  False  False  False  False   \n",
       "occupation           True         False  False  False  False  False  False   \n",
       "relationship        False          True  False  False  False  False  False   \n",
       "race                False         False   True  False  False  False  False   \n",
       "sex                 False         False  False   True  False  False  False   \n",
       "gain                False         False  False  False   True  False  False   \n",
       "loss                False         False  False  False  False   True  False   \n",
       "hpw                 False         False  False  False  False  False   True   \n",
       "country             False         False  False  False  False  False  False   \n",
       "target              False         False  False  False  False  False  False   \n",
       "\n",
       "               country  target  \n",
       "age              False   False  \n",
       "workclass        False   False  \n",
       "weight           False   False  \n",
       "education        False   False  \n",
       "education-num    False    True  \n",
       "status           False   False  \n",
       "occupation       False   False  \n",
       "relationship     False   False  \n",
       "race             False   False  \n",
       "sex              False   False  \n",
       "gain             False   False  \n",
       "loss             False   False  \n",
       "hpw              False   False  \n",
       "country           True   False  \n",
       "target           False    True  "
      ]
     },
     "execution_count": 202,
     "metadata": {},
     "output_type": "execute_result"
    }
   ],
   "source": [
    "corr = train.corr()\n",
    "abs(corr>=0.3)"
   ]
  },
  {
   "cell_type": "markdown",
   "metadata": {},
   "source": [
    "# Missing values"
   ]
  },
  {
   "cell_type": "code",
   "execution_count": null,
   "metadata": {},
   "outputs": [],
   "source": []
  },
  {
   "cell_type": "markdown",
   "metadata": {},
   "source": [
    "# Distribution"
   ]
  },
  {
   "cell_type": "code",
   "execution_count": null,
   "metadata": {},
   "outputs": [],
   "source": []
  },
  {
   "cell_type": "markdown",
   "metadata": {},
   "source": [
    "# outliers"
   ]
  },
  {
   "cell_type": "code",
   "execution_count": 144,
   "metadata": {},
   "outputs": [
    {
     "data": {
      "text/plain": [
       "{'boxes': [<matplotlib.lines.Line2D at 0x29727fb0>,\n",
       "  <matplotlib.lines.Line2D at 0x103536b0>],\n",
       " 'caps': [<matplotlib.lines.Line2D at 0x38652b0>,\n",
       "  <matplotlib.lines.Line2D at 0x1034aef0>,\n",
       "  <matplotlib.lines.Line2D at 0x10353e10>,\n",
       "  <matplotlib.lines.Line2D at 0x10353f10>],\n",
       " 'fliers': [<matplotlib.lines.Line2D at 0x10353430>,\n",
       "  <matplotlib.lines.Line2D at 0x103555b0>],\n",
       " 'means': [],\n",
       " 'medians': [<matplotlib.lines.Line2D at 0x1034aff0>,\n",
       "  <matplotlib.lines.Line2D at 0x10355330>],\n",
       " 'whiskers': [<matplotlib.lines.Line2D at 0x1f67d230>,\n",
       "  <matplotlib.lines.Line2D at 0x8875410>,\n",
       "  <matplotlib.lines.Line2D at 0x10353930>,\n",
       "  <matplotlib.lines.Line2D at 0x10353190>]}"
      ]
     },
     "execution_count": 144,
     "metadata": {},
     "output_type": "execute_result"
    },
    {
     "data": {
      "image/png": "[encoded data removed]",
      "text/plain": [
       "<Figure size 432x288 with 1 Axes>"
      ]
     },
     "metadata": {},
     "output_type": "display_data"
    }
   ],
   "source": [
    "train[['age','target']].boxplot(return_type='dict')"
   ]
  },
  {
   "cell_type": "code",
   "execution_count": 145,
   "metadata": {},
   "outputs": [
    {
     "data": {
      "text/plain": [
       "{'boxes': [<matplotlib.lines.Line2D at 0x5e4e3f0>,\n",
       "  <matplotlib.lines.Line2D at 0x5e525f0>],\n",
       " 'caps': [<matplotlib.lines.Line2D at 0x5e4eb70>,\n",
       "  <matplotlib.lines.Line2D at 0x5e4edf0>,\n",
       "  <matplotlib.lines.Line2D at 0x5e52d10>,\n",
       "  <matplotlib.lines.Line2D at 0x5e52f90>],\n",
       " 'fliers': [<matplotlib.lines.Line2D at 0x5e52330>,\n",
       "  <matplotlib.lines.Line2D at 0x5e594b0>],\n",
       " 'means': [],\n",
       " 'medians': [<matplotlib.lines.Line2D at 0x5e4eef0>,\n",
       "  <matplotlib.lines.Line2D at 0x5e59230>],\n",
       " 'whiskers': [<matplotlib.lines.Line2D at 0x5e4e670>,\n",
       "  <matplotlib.lines.Line2D at 0x5e4e8f0>,\n",
       "  <matplotlib.lines.Line2D at 0x5e52830>,\n",
       "  <matplotlib.lines.Line2D at 0x5e52090>]}"
      ]
     },
     "execution_count": 145,
     "metadata": {},
     "output_type": "execute_result"
    },
    {
     "data": {
      "image/png": "[encoded data removed]",
      "text/plain": [
       "<Figure size 432x288 with 1 Axes>"
      ]
     },
     "metadata": {},
     "output_type": "display_data"
    }
   ],
   "source": [
    "train[['status','target']].boxplot(return_type='dict')"
   ]
  },
  {
   "cell_type": "code",
   "execution_count": 146,
   "metadata": {},
   "outputs": [
    {
     "data": {
      "text/plain": [
       "{'boxes': [<matplotlib.lines.Line2D at 0x5e88750>,\n",
       "  <matplotlib.lines.Line2D at 0x5e90950>],\n",
       " 'caps': [<matplotlib.lines.Line2D at 0x5e88ed0>,\n",
       "  <matplotlib.lines.Line2D at 0x5e88fd0>,\n",
       "  <matplotlib.lines.Line2D at 0x5e90ef0>,\n",
       "  <matplotlib.lines.Line2D at 0x5e98310>],\n",
       " 'fliers': [<matplotlib.lines.Line2D at 0x5e90690>,\n",
       "  <matplotlib.lines.Line2D at 0x5e98810>],\n",
       " 'means': [],\n",
       " 'medians': [<matplotlib.lines.Line2D at 0x5e90450>,\n",
       "  <matplotlib.lines.Line2D at 0x5e98590>],\n",
       " 'whiskers': [<matplotlib.lines.Line2D at 0x5e889d0>,\n",
       "  <matplotlib.lines.Line2D at 0x5e88c50>,\n",
       "  <matplotlib.lines.Line2D at 0x5e90b90>,\n",
       "  <matplotlib.lines.Line2D at 0x5e903f0>]}"
      ]
     },
     "execution_count": 146,
     "metadata": {},
     "output_type": "execute_result"
    },
    {
     "data": {
      "image/png": "[encoded data removed]",
      "text/plain": [
       "<Figure size 432x288 with 1 Axes>"
      ]
     },
     "metadata": {},
     "output_type": "display_data"
    }
   ],
   "source": [
    "train[['relationship','target']].boxplot(return_type='dict')"
   ]
  },
  {
   "cell_type": "code",
   "execution_count": 205,
   "metadata": {},
   "outputs": [
    {
     "data": {
      "text/plain": [
       "{'boxes': [<matplotlib.lines.Line2D at 0x29df3890>,\n",
       "  <matplotlib.lines.Line2D at 0x29f41470>],\n",
       " 'caps': [<matplotlib.lines.Line2D at 0x29127a30>,\n",
       "  <matplotlib.lines.Line2D at 0x29127bf0>,\n",
       "  <matplotlib.lines.Line2D at 0x29129910>,\n",
       "  <matplotlib.lines.Line2D at 0x29129790>],\n",
       " 'fliers': [<matplotlib.lines.Line2D at 0x29127870>,\n",
       "  <matplotlib.lines.Line2D at 0x29129590>],\n",
       " 'means': [],\n",
       " 'medians': [<matplotlib.lines.Line2D at 0x29127c70>,\n",
       "  <matplotlib.lines.Line2D at 0x29129a50>],\n",
       " 'whiskers': [<matplotlib.lines.Line2D at 0x10442ad0>,\n",
       "  <matplotlib.lines.Line2D at 0x29127b50>,\n",
       "  <matplotlib.lines.Line2D at 0x29f41750>,\n",
       "  <matplotlib.lines.Line2D at 0x29127df0>]}"
      ]
     },
     "execution_count": 205,
     "metadata": {},
     "output_type": "execute_result"
    },
    {
     "data": {
      "image/png": "[encoded data removed]",
      "text/plain": [
       "<Figure size 432x288 with 1 Axes>"
      ]
     },
     "metadata": {},
     "output_type": "display_data"
    }
   ],
   "source": [
    "train[['hpw','target']].boxplot(return_type='dict')"
   ]
  },
  {
   "cell_type": "code",
   "execution_count": 206,
   "metadata": {},
   "outputs": [
    {
     "data": {
      "text/plain": [
       "{'boxes': [<matplotlib.lines.Line2D at 0x29233950>,\n",
       "  <matplotlib.lines.Line2D at 0x2923bb50>],\n",
       " 'caps': [<matplotlib.lines.Line2D at 0x29233f50>,\n",
       "  <matplotlib.lines.Line2D at 0x2923b370>,\n",
       "  <matplotlib.lines.Line2D at 0x29243290>,\n",
       "  <matplotlib.lines.Line2D at 0x29243510>],\n",
       " 'fliers': [<matplotlib.lines.Line2D at 0x2923b890>,\n",
       "  <matplotlib.lines.Line2D at 0x29243a10>],\n",
       " 'means': [],\n",
       " 'medians': [<matplotlib.lines.Line2D at 0x2923b650>,\n",
       "  <matplotlib.lines.Line2D at 0x29243790>],\n",
       " 'whiskers': [<matplotlib.lines.Line2D at 0x29233bd0>,\n",
       "  <matplotlib.lines.Line2D at 0x29233e50>,\n",
       "  <matplotlib.lines.Line2D at 0x2923bd90>,\n",
       "  <matplotlib.lines.Line2D at 0x2923b5f0>]}"
      ]
     },
     "execution_count": 206,
     "metadata": {},
     "output_type": "execute_result"
    },
    {
     "data": {
      "image/png": "[encoded data removed]",
      "text/plain": [
       "<Figure size 432x288 with 1 Axes>"
      ]
     },
     "metadata": {},
     "output_type": "display_data"
    }
   ],
   "source": [
    "train[['sex','target']].boxplot(return_type='dict')"
   ]
  },
  {
   "cell_type": "code",
   "execution_count": 207,
   "metadata": {},
   "outputs": [
    {
     "data": {
      "text/plain": [
       "{'boxes': [<matplotlib.lines.Line2D at 0x29a72a10>,\n",
       "  <matplotlib.lines.Line2D at 0x29a7bbd0>],\n",
       " 'caps': [<matplotlib.lines.Line2D at 0x29a72ff0>,\n",
       "  <matplotlib.lines.Line2D at 0x29a7b430>,\n",
       "  <matplotlib.lines.Line2D at 0x29a83350>,\n",
       "  <matplotlib.lines.Line2D at 0x29a835d0>],\n",
       " 'fliers': [<matplotlib.lines.Line2D at 0x29a7b950>,\n",
       "  <matplotlib.lines.Line2D at 0x29a83ad0>],\n",
       " 'means': [],\n",
       " 'medians': [<matplotlib.lines.Line2D at 0x29a7b710>,\n",
       "  <matplotlib.lines.Line2D at 0x29a83850>],\n",
       " 'whiskers': [<matplotlib.lines.Line2D at 0x29a72c90>,\n",
       "  <matplotlib.lines.Line2D at 0x29a72f10>,\n",
       "  <matplotlib.lines.Line2D at 0x29a7be50>,\n",
       "  <matplotlib.lines.Line2D at 0x29a7b6b0>]}"
      ]
     },
     "execution_count": 207,
     "metadata": {},
     "output_type": "execute_result"
    },
    {
     "data": {
      "image/png": "[encoded data removed]",
      "text/plain": [
       "<Figure size 432x288 with 1 Axes>"
      ]
     },
     "metadata": {},
     "output_type": "display_data"
    }
   ],
   "source": [
    "train[['education-num','target']].boxplot(return_type='dict')"
   ]
  },
  {
   "cell_type": "code",
   "execution_count": 150,
   "metadata": {},
   "outputs": [
    {
     "data": {
      "text/plain": [
       "{'boxes': [<matplotlib.lines.Line2D at 0x290f6bf0>],\n",
       " 'caps': [<matplotlib.lines.Line2D at 0x290ff390>,\n",
       "  <matplotlib.lines.Line2D at 0x290ff610>],\n",
       " 'fliers': [<matplotlib.lines.Line2D at 0x290ffb30>],\n",
       " 'means': [],\n",
       " 'medians': [<matplotlib.lines.Line2D at 0x290ff8f0>],\n",
       " 'whiskers': [<matplotlib.lines.Line2D at 0x290f6e70>,\n",
       "  <matplotlib.lines.Line2D at 0x290f6f70>]}"
      ]
     },
     "execution_count": 150,
     "metadata": {},
     "output_type": "execute_result"
    },
    {
     "data": {
      "image/png": "[encoded data removed]",
      "text/plain": [
       "<Figure size 432x288 with 1 Axes>"
      ]
     },
     "metadata": {},
     "output_type": "display_data"
    }
   ],
   "source": [
    "train[['workclass']].boxplot(return_type='dict')"
   ]
  },
  {
   "cell_type": "code",
   "execution_count": null,
   "metadata": {},
   "outputs": [],
   "source": []
  }
 ],
 "metadata": {
  "kernelspec": {
   "display_name": "Python 3",
   "language": "python",
   "name": "python3"
  },
  "language_info": {
   "codemirror_mode": {
    "name": "ipython",
    "version": 3
   },
   "file_extension": ".py",
   "mimetype": "text/x-python",
   "name": "python",
   "nbconvert_exporter": "python",
   "pygments_lexer": "ipython3",
   "version": "3.6.4"
  }
 },
 "nbformat": 4,
 "nbformat_minor": 2
}
